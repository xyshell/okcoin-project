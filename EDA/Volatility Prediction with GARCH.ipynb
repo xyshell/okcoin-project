{
 "cells": [
  {
   "cell_type": "code",
   "execution_count": 1,
   "metadata": {},
   "outputs": [],
   "source": [
    "from CryptoCompareAPI import CryptoCompareAPI\n",
    "from utils import COIN_LIST, myconcat\n",
    "import pandas as pd\n",
    "from datetime import datetime\n",
    "from datetime import timedelta\n",
    "import matplotlib.pyplot as plt"
   ]
  },
  {
   "cell_type": "code",
   "execution_count": 2,
   "metadata": {},
   "outputs": [],
   "source": [
    "from arch import arch_model\n",
    "from random import *\n",
    "from statsmodels.graphics.tsaplots import plot_acf"
   ]
  },
  {
   "cell_type": "markdown",
   "metadata": {},
   "source": [
    "## Fetch daily data and calculate daily return"
   ]
  },
  {
   "cell_type": "code",
   "execution_count": 3,
   "metadata": {},
   "outputs": [],
   "source": [
    "api = CryptoCompareAPI()\n",
    "\n",
    "param_list = []\n",
    "for coin in COIN_LIST:\n",
    "    param_list.append(\n",
    "        {'fsym':coin, 'tsym':'USD'}\n",
    "    )\n",
    "\n",
    "df_list = []\n",
    "for param in param_list:\n",
    "    df = api.getCandle('2018-07-20', '2019-07-08', 'd', param=param)\n",
    "    df_list.append(df)\n",
    "\n",
    "df = myconcat(df_list, ['time', 'close'])\n",
    "df.columns = ['time'] + COIN_LIST\n",
    "df.time = pd.to_datetime(df.time, unit='s')\n",
    "\n",
    "df = df.iloc[::-1]\n",
    "df.set_index(['time'], inplace=True)"
   ]
  },
  {
   "cell_type": "code",
   "execution_count": 4,
   "metadata": {},
   "outputs": [],
   "source": [
    "df['TUSD_ret'] = df['TUSD'].pct_change()"
   ]
  },
  {
   "cell_type": "code",
   "execution_count": 9,
   "metadata": {},
   "outputs": [],
   "source": [
    "data = df[['TUSD_ret']]"
   ]
  },
  {
   "cell_type": "code",
   "execution_count": 11,
   "metadata": {},
   "outputs": [],
   "source": [
    "data = data.dropna()"
   ]
  },
  {
   "cell_type": "code",
   "execution_count": 12,
   "metadata": {},
   "outputs": [
    {
     "data": {
      "text/html": [
       "<div>\n",
       "<style scoped>\n",
       "    .dataframe tbody tr th:only-of-type {\n",
       "        vertical-align: middle;\n",
       "    }\n",
       "\n",
       "    .dataframe tbody tr th {\n",
       "        vertical-align: top;\n",
       "    }\n",
       "\n",
       "    .dataframe thead th {\n",
       "        text-align: right;\n",
       "    }\n",
       "</style>\n",
       "<table border=\"1\" class=\"dataframe\">\n",
       "  <thead>\n",
       "    <tr style=\"text-align: right;\">\n",
       "      <th></th>\n",
       "      <th>TUSD_ret</th>\n",
       "    </tr>\n",
       "    <tr>\n",
       "      <th>time</th>\n",
       "      <th></th>\n",
       "    </tr>\n",
       "  </thead>\n",
       "  <tbody>\n",
       "    <tr>\n",
       "      <th>2018-07-21</th>\n",
       "      <td>-0.006122</td>\n",
       "    </tr>\n",
       "    <tr>\n",
       "      <th>2018-07-22</th>\n",
       "      <td>-0.000404</td>\n",
       "    </tr>\n",
       "    <tr>\n",
       "      <th>2018-07-23</th>\n",
       "      <td>0.003334</td>\n",
       "    </tr>\n",
       "    <tr>\n",
       "      <th>2018-07-24</th>\n",
       "      <td>0.011881</td>\n",
       "    </tr>\n",
       "    <tr>\n",
       "      <th>2018-07-25</th>\n",
       "      <td>-0.014726</td>\n",
       "    </tr>\n",
       "  </tbody>\n",
       "</table>\n",
       "</div>"
      ],
      "text/plain": [
       "            TUSD_ret\n",
       "time                \n",
       "2018-07-21 -0.006122\n",
       "2018-07-22 -0.000404\n",
       "2018-07-23  0.003334\n",
       "2018-07-24  0.011881\n",
       "2018-07-25 -0.014726"
      ]
     },
     "execution_count": 12,
     "metadata": {},
     "output_type": "execute_result"
    }
   ],
   "source": [
    "data.head()"
   ]
  },
  {
   "cell_type": "markdown",
   "metadata": {},
   "source": [
    "## Fetch hourly data and calculate intraday volatility"
   ]
  },
  {
   "cell_type": "code",
   "execution_count": 29,
   "metadata": {},
   "outputs": [],
   "source": [
    "df_m_list = []\n",
    "for param in param_list:\n",
    "    df_m = api.getCandle('2018-07-21', '2019-07-08', 'h', param=param)\n",
    "    df_m_list.append(df_m)\n",
    "\n",
    "df_m = myconcat(df_m_list, ['time', 'close'])\n",
    "df_m.columns = ['time'] + COIN_LIST\n",
    "df_m.time = pd.to_datetime(df_m.time, unit='s')\n",
    "\n",
    "df_m = df_m.iloc[::-1]\n",
    "df_m.set_index(['time'], inplace=True)"
   ]
  },
  {
   "cell_type": "code",
   "execution_count": 30,
   "metadata": {},
   "outputs": [
    {
     "data": {
      "text/plain": [
       "(8449, 7)"
      ]
     },
     "execution_count": 30,
     "metadata": {},
     "output_type": "execute_result"
    }
   ],
   "source": [
    "df_m.shape"
   ]
  },
  {
   "cell_type": "code",
   "execution_count": 31,
   "metadata": {},
   "outputs": [
    {
     "data": {
      "text/html": [
       "<div>\n",
       "<style scoped>\n",
       "    .dataframe tbody tr th:only-of-type {\n",
       "        vertical-align: middle;\n",
       "    }\n",
       "\n",
       "    .dataframe tbody tr th {\n",
       "        vertical-align: top;\n",
       "    }\n",
       "\n",
       "    .dataframe thead th {\n",
       "        text-align: right;\n",
       "    }\n",
       "</style>\n",
       "<table border=\"1\" class=\"dataframe\">\n",
       "  <thead>\n",
       "    <tr style=\"text-align: right;\">\n",
       "      <th></th>\n",
       "      <th>USDT</th>\n",
       "      <th>DAI</th>\n",
       "      <th>TUSD</th>\n",
       "      <th>GUSD</th>\n",
       "      <th>USDC</th>\n",
       "      <th>PAX</th>\n",
       "      <th>USDS</th>\n",
       "    </tr>\n",
       "    <tr>\n",
       "      <th>time</th>\n",
       "      <th></th>\n",
       "      <th></th>\n",
       "      <th></th>\n",
       "      <th></th>\n",
       "      <th></th>\n",
       "      <th></th>\n",
       "      <th></th>\n",
       "    </tr>\n",
       "  </thead>\n",
       "  <tbody>\n",
       "    <tr>\n",
       "      <th>2018-07-21 00:00:00</th>\n",
       "      <td>0.9991</td>\n",
       "      <td>0.0</td>\n",
       "      <td>0.0</td>\n",
       "      <td>0.0</td>\n",
       "      <td>0.0</td>\n",
       "      <td>0.0</td>\n",
       "      <td>0.0</td>\n",
       "    </tr>\n",
       "    <tr>\n",
       "      <th>2018-07-21 01:00:00</th>\n",
       "      <td>0.9992</td>\n",
       "      <td>0.0</td>\n",
       "      <td>0.0</td>\n",
       "      <td>0.0</td>\n",
       "      <td>0.0</td>\n",
       "      <td>0.0</td>\n",
       "      <td>0.0</td>\n",
       "    </tr>\n",
       "    <tr>\n",
       "      <th>2018-07-21 02:00:00</th>\n",
       "      <td>0.9995</td>\n",
       "      <td>0.0</td>\n",
       "      <td>0.0</td>\n",
       "      <td>0.0</td>\n",
       "      <td>0.0</td>\n",
       "      <td>0.0</td>\n",
       "      <td>0.0</td>\n",
       "    </tr>\n",
       "    <tr>\n",
       "      <th>2018-07-21 03:00:00</th>\n",
       "      <td>0.9993</td>\n",
       "      <td>0.0</td>\n",
       "      <td>0.0</td>\n",
       "      <td>0.0</td>\n",
       "      <td>0.0</td>\n",
       "      <td>0.0</td>\n",
       "      <td>0.0</td>\n",
       "    </tr>\n",
       "    <tr>\n",
       "      <th>2018-07-21 04:00:00</th>\n",
       "      <td>1.0000</td>\n",
       "      <td>0.0</td>\n",
       "      <td>0.0</td>\n",
       "      <td>0.0</td>\n",
       "      <td>0.0</td>\n",
       "      <td>0.0</td>\n",
       "      <td>0.0</td>\n",
       "    </tr>\n",
       "  </tbody>\n",
       "</table>\n",
       "</div>"
      ],
      "text/plain": [
       "                       USDT  DAI  TUSD  GUSD  USDC  PAX  USDS\n",
       "time                                                         \n",
       "2018-07-21 00:00:00  0.9991  0.0   0.0   0.0   0.0  0.0   0.0\n",
       "2018-07-21 01:00:00  0.9992  0.0   0.0   0.0   0.0  0.0   0.0\n",
       "2018-07-21 02:00:00  0.9995  0.0   0.0   0.0   0.0  0.0   0.0\n",
       "2018-07-21 03:00:00  0.9993  0.0   0.0   0.0   0.0  0.0   0.0\n",
       "2018-07-21 04:00:00  1.0000  0.0   0.0   0.0   0.0  0.0   0.0"
      ]
     },
     "execution_count": 31,
     "metadata": {},
     "output_type": "execute_result"
    }
   ],
   "source": [
    "df_m.head()"
   ]
  },
  {
   "cell_type": "code",
   "execution_count": 32,
   "metadata": {},
   "outputs": [],
   "source": [
    "df_vol = pd.DataFrame()"
   ]
  },
  {
   "cell_type": "code",
   "execution_count": 33,
   "metadata": {},
   "outputs": [],
   "source": [
    "for coin in COIN_LIST:\n",
    "    col_name = coin + '_vol'\n",
    "    crt_time = df.index[0]\n",
    "    tick_list = [df_m.index[24*i] for i in range(1,352)]\n",
    "    for tick in tick_list:\n",
    "        ind_start = tick - timedelta(hours=24)\n",
    "        ind_end = tick\n",
    "        df_vol.loc[ind_end-timedelta(hours=24), col_name] = df[coin][ind_start:ind_end].std()*100"
   ]
  },
  {
   "cell_type": "code",
   "execution_count": 36,
   "metadata": {},
   "outputs": [],
   "source": [
    "data_vol = df_vol[['TUSD_vol']]"
   ]
  },
  {
   "cell_type": "code",
   "execution_count": 37,
   "metadata": {},
   "outputs": [
    {
     "data": {
      "text/html": [
       "<div>\n",
       "<style scoped>\n",
       "    .dataframe tbody tr th:only-of-type {\n",
       "        vertical-align: middle;\n",
       "    }\n",
       "\n",
       "    .dataframe tbody tr th {\n",
       "        vertical-align: top;\n",
       "    }\n",
       "\n",
       "    .dataframe thead th {\n",
       "        text-align: right;\n",
       "    }\n",
       "</style>\n",
       "<table border=\"1\" class=\"dataframe\">\n",
       "  <thead>\n",
       "    <tr style=\"text-align: right;\">\n",
       "      <th></th>\n",
       "      <th>TUSD_vol</th>\n",
       "    </tr>\n",
       "  </thead>\n",
       "  <tbody>\n",
       "    <tr>\n",
       "      <th>2018-07-21</th>\n",
       "      <td>0.028284</td>\n",
       "    </tr>\n",
       "    <tr>\n",
       "      <th>2018-07-22</th>\n",
       "      <td>0.233345</td>\n",
       "    </tr>\n",
       "    <tr>\n",
       "      <th>2018-07-23</th>\n",
       "      <td>0.834386</td>\n",
       "    </tr>\n",
       "    <tr>\n",
       "      <th>2018-07-24</th>\n",
       "      <td>1.046518</td>\n",
       "    </tr>\n",
       "    <tr>\n",
       "      <th>2018-07-25</th>\n",
       "      <td>0.091924</td>\n",
       "    </tr>\n",
       "  </tbody>\n",
       "</table>\n",
       "</div>"
      ],
      "text/plain": [
       "            TUSD_vol\n",
       "2018-07-21  0.028284\n",
       "2018-07-22  0.233345\n",
       "2018-07-23  0.834386\n",
       "2018-07-24  1.046518\n",
       "2018-07-25  0.091924"
      ]
     },
     "execution_count": 37,
     "metadata": {},
     "output_type": "execute_result"
    }
   ],
   "source": [
    "data_vol.head()"
   ]
  },
  {
   "cell_type": "markdown",
   "metadata": {},
   "source": [
    "## Plot daily return ACF and check lags"
   ]
  },
  {
   "cell_type": "code",
   "execution_count": 38,
   "metadata": {},
   "outputs": [
    {
     "data": {
      "image/png": "[encoded data removed]",
      "text/plain": [
       "<Figure size 432x288 with 1 Axes>"
      ]
     },
     "metadata": {
      "needs_background": "light"
     },
     "output_type": "display_data"
    }
   ],
   "source": [
    "data['squared'] = data['TUSD_ret']**2\n",
    "plot_acf(data['squared'])\n",
    "plt.show()"
   ]
  },
  {
   "cell_type": "markdown",
   "metadata": {},
   "source": [
    "## Use ARCH / GARCH to predict daily volatility"
   ]
  },
  {
   "cell_type": "code",
   "execution_count": 54,
   "metadata": {},
   "outputs": [],
   "source": [
    "import numpy as np"
   ]
  },
  {
   "cell_type": "code",
   "execution_count": 41,
   "metadata": {},
   "outputs": [],
   "source": [
    "# split into train/test\n",
    "n_test = 50\n",
    "train, test = data['TUSD_ret'][:-n_test], data['TUSD_ret'][-n_test:]"
   ]
  },
  {
   "cell_type": "markdown",
   "metadata": {},
   "source": [
    "### ARCH(1)"
   ]
  },
  {
   "cell_type": "code",
   "execution_count": 57,
   "metadata": {},
   "outputs": [
    {
     "name": "stdout",
     "output_type": "stream",
     "text": [
      "Iteration:      1,   Func. Count:      4,   Neg. LLF: -992.3187221745584\n",
      "Iteration:      2,   Func. Count:     11,   Neg. LLF: -992.49428800591\n",
      "Iteration:      3,   Func. Count:     16,   Neg. LLF: -992.794577024737\n",
      "Iteration:      4,   Func. Count:     22,   Neg. LLF: -992.8355320457483\n",
      "Iteration:      5,   Func. Count:     28,   Neg. LLF: -992.8419360006319\n",
      "Iteration:      6,   Func. Count:     32,   Neg. LLF: -992.8421192701228\n",
      "Iteration:      7,   Func. Count:     36,   Neg. LLF: -992.8421207195768\n",
      "Optimization terminated successfully.    (Exit mode 0)\n",
      "            Current function value: -992.8421207195777\n",
      "            Iterations: 7\n",
      "            Function evaluations: 36\n",
      "            Gradient evaluations: 7\n"
     ]
    },
    {
     "name": "stderr",
     "output_type": "stream",
     "text": [
      "D:\\Anaconda\\lib\\site-packages\\ipykernel_launcher.py:6: SettingWithCopyWarning: \n",
      "A value is trying to be set on a copy of a slice from a DataFrame.\n",
      "Try using .loc[row_indexer,col_indexer] = value instead\n",
      "\n",
      "See the caveats in the documentation: http://pandas.pydata.org/pandas-docs/stable/indexing.html#indexing-view-versus-copy\n",
      "  \n"
     ]
    },
    {
     "data": {
      "image/png": "[encoded data removed]",
      "text/plain": [
       "<Figure size 432x288 with 1 Axes>"
      ]
     },
     "metadata": {
      "needs_background": "light"
     },
     "output_type": "display_data"
    }
   ],
   "source": [
    "model1 = arch_model(train, mean='Zero', vol='ARCH', p=1)\n",
    "model1_fit = model1.fit()\n",
    "\n",
    "data_test1 = data_vol[-n_test:]\n",
    "yhat1 = model1_fit.forecast(horizon=n_test)\n",
    "data_test1['TUSD_vol_pred'] = np.sqrt(yhat1.variance.values[-1,:])*100\n",
    "plt.plot(data_test1)\n",
    "plt.show()"
   ]
  },
  {
   "cell_type": "code",
   "execution_count": 44,
   "metadata": {},
   "outputs": [
    {
     "data": {
      "text/plain": [
       "<bound method ARCHModelResult.summary of                         Zero Mean - ARCH Model Results                        \n",
       "==============================================================================\n",
       "Dep. Variable:               TUSD_ret   R-squared:                       0.000\n",
       "Mean Model:                 Zero Mean   Adj. R-squared:                  0.003\n",
       "Vol Model:                       ARCH   Log-Likelihood:                992.842\n",
       "Distribution:                  Normal   AIC:                          -1981.68\n",
       "Method:            Maximum Likelihood   BIC:                          -1974.26\n",
       "                                        No. Observations:                  303\n",
       "Date:                Wed, Jul 24 2019   Df Residuals:                      301\n",
       "Time:                        17:58:15   Df Model:                            2\n",
       "                              Volatility Model                              \n",
       "============================================================================\n",
       "                 coef    std err          t      P>|t|      95.0% Conf. Int.\n",
       "----------------------------------------------------------------------------\n",
       "omega      4.3045e-05  6.192e-06      6.951  3.615e-12 [3.091e-05,5.518e-05]\n",
       "alpha[1]       0.7478      0.157      4.758  1.957e-06     [  0.440,  1.056]\n",
       "============================================================================\n",
       "\n",
       "Covariance estimator: robust\n",
       "ARCHModelResult, id: 0x21c43b2f2b0>"
      ]
     },
     "execution_count": 44,
     "metadata": {},
     "output_type": "execute_result"
    }
   ],
   "source": [
    "model1_fit.summary"
   ]
  },
  {
   "cell_type": "markdown",
   "metadata": {},
   "source": [
    "### ARCH(4)"
   ]
  },
  {
   "cell_type": "code",
   "execution_count": 45,
   "metadata": {},
   "outputs": [
    {
     "name": "stdout",
     "output_type": "stream",
     "text": [
      "Iteration:      1,   Func. Count:      7,   Neg. LLF: -976.9514748914636\n",
      "Iteration:      2,   Func. Count:     15,   Neg. LLF: -984.2443736352038\n",
      "Iteration:      3,   Func. Count:     23,   Neg. LLF: -988.9904793771689\n",
      "Iteration:      4,   Func. Count:     33,   Neg. LLF: -989.1176502399787\n",
      "Positive directional derivative for linesearch    (Exit mode 8)\n",
      "            Current function value: -989.1176506481702\n",
      "            Iterations: 8\n",
      "            Function evaluations: 33\n",
      "            Gradient evaluations: 4\n"
     ]
    },
    {
     "name": "stderr",
     "output_type": "stream",
     "text": [
      "D:\\Anaconda\\lib\\site-packages\\arch\\univariate\\base.py:577: ConvergenceWarning: \n",
      "The optimizer returned code 8. The message is:\n",
      "Positive directional derivative for linesearch\n",
      "See scipy.optimize.fmin_slsqp for code meaning.\n",
      "\n",
      "  ConvergenceWarning)\n"
     ]
    }
   ],
   "source": [
    "model2 = arch_model(train, mean='Zero', vol='ARCH', p=4)\n",
    "model2_fit = model2.fit()"
   ]
  },
  {
   "cell_type": "code",
   "execution_count": 58,
   "metadata": {},
   "outputs": [
    {
     "name": "stderr",
     "output_type": "stream",
     "text": [
      "D:\\Anaconda\\lib\\site-packages\\ipykernel_launcher.py:3: SettingWithCopyWarning: \n",
      "A value is trying to be set on a copy of a slice from a DataFrame.\n",
      "Try using .loc[row_indexer,col_indexer] = value instead\n",
      "\n",
      "See the caveats in the documentation: http://pandas.pydata.org/pandas-docs/stable/indexing.html#indexing-view-versus-copy\n",
      "  This is separate from the ipykernel package so we can avoid doing imports until\n"
     ]
    },
    {
     "data": {
      "image/png": "[encoded data removed]",
      "text/plain": [
       "<Figure size 432x288 with 1 Axes>"
      ]
     },
     "metadata": {
      "needs_background": "light"
     },
     "output_type": "display_data"
    }
   ],
   "source": [
    "data_test2 = data_vol[-n_test:]\n",
    "yhat2 = model2_fit.forecast(horizon=n_test)\n",
    "data_test2['TUSD_vol_pred'] = np.sqrt(yhat2.variance.values[-1,:])*100\n",
    "plt.plot(data_test2)\n",
    "plt.show()"
   ]
  },
  {
   "cell_type": "code",
   "execution_count": 47,
   "metadata": {},
   "outputs": [
    {
     "data": {
      "text/plain": [
       "<bound method ARCHModelResult.summary of                         Zero Mean - ARCH Model Results                        \n",
       "==============================================================================\n",
       "Dep. Variable:               TUSD_ret   R-squared:                       0.000\n",
       "Mean Model:                 Zero Mean   Adj. R-squared:                  0.003\n",
       "Vol Model:                       ARCH   Log-Likelihood:                989.118\n",
       "Distribution:                  Normal   AIC:                          -1968.24\n",
       "Method:            Maximum Likelihood   BIC:                          -1949.67\n",
       "                                        No. Observations:                  303\n",
       "Date:                Wed, Jul 24 2019   Df Residuals:                      298\n",
       "Time:                        17:58:27   Df Model:                            5\n",
       "                               Volatility Model                              \n",
       "=============================================================================\n",
       "                 coef    std err          t      P>|t|       95.0% Conf. Int.\n",
       "-----------------------------------------------------------------------------\n",
       "omega      3.2771e-05  5.915e-05      0.554      0.580 [-8.317e-05,1.487e-04]\n",
       "alpha[1]       0.3341      0.634      0.527      0.598      [ -0.908,  1.576]\n",
       "alpha[2]       0.1413      5.812  2.430e-02      0.981      [-11.250, 11.533]\n",
       "alpha[3]       0.1412      0.668      0.211      0.833      [ -1.168,  1.451]\n",
       "alpha[4]       0.1413      1.195      0.118      0.906      [ -2.200,  2.483]\n",
       "=============================================================================\n",
       "\n",
       "Covariance estimator: robust\n",
       "\n",
       "WARNING: The optimizer did not indicate successful convergence. The message was\n",
       "Positive directional derivative for linesearch. See convergence_flag.\n",
       "ARCHModelResult, id: 0x21c43b7c550>"
      ]
     },
     "execution_count": 47,
     "metadata": {},
     "output_type": "execute_result"
    }
   ],
   "source": [
    "model2_fit.summary"
   ]
  },
  {
   "cell_type": "markdown",
   "metadata": {},
   "source": [
    "### GARCH(1,1)"
   ]
  },
  {
   "cell_type": "code",
   "execution_count": 59,
   "metadata": {},
   "outputs": [
    {
     "name": "stdout",
     "output_type": "stream",
     "text": [
      "Iteration:      1,   Func. Count:      5,   Neg. LLF: -987.5065032368941\n",
      "Iteration:      2,   Func. Count:     12,   Neg. LLF: -987.8635484776205\n",
      "Positive directional derivative for linesearch    (Exit mode 8)\n",
      "            Current function value: -987.8635473086687\n",
      "            Iterations: 6\n",
      "            Function evaluations: 12\n",
      "            Gradient evaluations: 2\n"
     ]
    },
    {
     "name": "stderr",
     "output_type": "stream",
     "text": [
      "D:\\Anaconda\\lib\\site-packages\\arch\\univariate\\base.py:577: ConvergenceWarning: \n",
      "The optimizer returned code 8. The message is:\n",
      "Positive directional derivative for linesearch\n",
      "See scipy.optimize.fmin_slsqp for code meaning.\n",
      "\n",
      "  ConvergenceWarning)\n",
      "D:\\Anaconda\\lib\\site-packages\\ipykernel_launcher.py:6: SettingWithCopyWarning: \n",
      "A value is trying to be set on a copy of a slice from a DataFrame.\n",
      "Try using .loc[row_indexer,col_indexer] = value instead\n",
      "\n",
      "See the caveats in the documentation: http://pandas.pydata.org/pandas-docs/stable/indexing.html#indexing-view-versus-copy\n",
      "  \n"
     ]
    },
    {
     "data": {
      "image/png": "[encoded data removed]",
      "text/plain": [
       "<Figure size 432x288 with 1 Axes>"
      ]
     },
     "metadata": {
      "needs_background": "light"
     },
     "output_type": "display_data"
    }
   ],
   "source": [
    "model3 = arch_model(train, mean='Zero', vol='GARCH', p=1, q=1)\n",
    "model3_fit = model3.fit()\n",
    "\n",
    "data_test3 = data_vol[-n_test:]\n",
    "yhat3 = model3_fit.forecast(horizon=n_test)\n",
    "data_test3['TUSD_vol_pred'] = np.sqrt(yhat3.variance.values[-1,:])*100\n",
    "plt.plot(data_test3)\n",
    "plt.show()"
   ]
  },
  {
   "cell_type": "code",
   "execution_count": 49,
   "metadata": {},
   "outputs": [
    {
     "data": {
      "text/plain": [
       "<bound method ARCHModelResult.summary of                        Zero Mean - GARCH Model Results                        \n",
       "==============================================================================\n",
       "Dep. Variable:               TUSD_ret   R-squared:                       0.000\n",
       "Mean Model:                 Zero Mean   Adj. R-squared:                  0.003\n",
       "Vol Model:                      GARCH   Log-Likelihood:                987.864\n",
       "Distribution:                  Normal   AIC:                          -1969.73\n",
       "Method:            Maximum Likelihood   BIC:                          -1958.59\n",
       "                                        No. Observations:                  303\n",
       "Date:                Wed, Jul 24 2019   Df Residuals:                      300\n",
       "Time:                        17:58:39   Df Model:                            3\n",
       "                              Volatility Model                              \n",
       "============================================================================\n",
       "                 coef    std err          t      P>|t|      95.0% Conf. Int.\n",
       "----------------------------------------------------------------------------\n",
       "omega      2.2585e-06  4.921e-09    458.904      0.000 [2.249e-06,2.268e-06]\n",
       "alpha[1]       0.2328  8.247e-02      2.823  4.753e-03   [7.120e-02,  0.394]\n",
       "beta[1]        0.7464  8.471e-02      8.812  1.233e-18     [  0.580,  0.912]\n",
       "============================================================================\n",
       "\n",
       "Covariance estimator: robust\n",
       "\n",
       "WARNING: The optimizer did not indicate successful convergence. The message was\n",
       "Positive directional derivative for linesearch. See convergence_flag.\n",
       "ARCHModelResult, id: 0x21c43b47080>"
      ]
     },
     "execution_count": 49,
     "metadata": {},
     "output_type": "execute_result"
    }
   ],
   "source": [
    "model3_fit.summary"
   ]
  },
  {
   "cell_type": "markdown",
   "metadata": {},
   "source": [
    "### GARCH(4,4)"
   ]
  },
  {
   "cell_type": "code",
   "execution_count": 62,
   "metadata": {},
   "outputs": [
    {
     "name": "stdout",
     "output_type": "stream",
     "text": [
      "Iteration:      1,   Func. Count:     11,   Neg. LLF: -971.7669566337012\n",
      "Iteration:      2,   Func. Count:     23,   Neg. LLF: -990.7009937239442\n",
      "Iteration:      3,   Func. Count:     35,   Neg. LLF: -993.444301229852\n",
      "Iteration:      4,   Func. Count:     49,   Neg. LLF: -993.6528036611728\n",
      "Iteration:      5,   Func. Count:     70,   Neg. LLF: -993.652812110024\n",
      "Iteration:      6,   Func. Count:     86,   Neg. LLF: -993.6548045587058\n",
      "Iteration:      7,   Func. Count:    101,   Neg. LLF: -993.6563642059607\n",
      "Iteration:      8,   Func. Count:    118,   Neg. LLF: -994.7145568452584\n",
      "Positive directional derivative for linesearch    (Exit mode 8)\n",
      "            Current function value: -994.7145574373739\n",
      "            Iterations: 12\n",
      "            Function evaluations: 118\n",
      "            Gradient evaluations: 8\n"
     ]
    },
    {
     "name": "stderr",
     "output_type": "stream",
     "text": [
      "D:\\Anaconda\\lib\\site-packages\\arch\\univariate\\base.py:577: ConvergenceWarning: \n",
      "The optimizer returned code 8. The message is:\n",
      "Positive directional derivative for linesearch\n",
      "See scipy.optimize.fmin_slsqp for code meaning.\n",
      "\n",
      "  ConvergenceWarning)\n",
      "D:\\Anaconda\\lib\\site-packages\\ipykernel_launcher.py:6: SettingWithCopyWarning: \n",
      "A value is trying to be set on a copy of a slice from a DataFrame.\n",
      "Try using .loc[row_indexer,col_indexer] = value instead\n",
      "\n",
      "See the caveats in the documentation: http://pandas.pydata.org/pandas-docs/stable/indexing.html#indexing-view-versus-copy\n",
      "  \n"
     ]
    },
    {
     "data": {
      "image/png": "[encoded data removed]",
      "text/plain": [
       "<Figure size 432x288 with 1 Axes>"
      ]
     },
     "metadata": {
      "needs_background": "light"
     },
     "output_type": "display_data"
    }
   ],
   "source": [
    "model4 = arch_model(train, mean='Zero', vol='GARCH', p=4, q=4)\n",
    "model4_fit = model4.fit()\n",
    "\n",
    "data_test4 = data_vol[-n_test:]\n",
    "yhat4 = model4_fit.forecast(horizon=n_test)\n",
    "data_test4['TUSD_vol_pred'] = np.sqrt(yhat4.variance.values[-1,:])*100\n",
    "plt.plot(data_test4)\n",
    "plt.show()"
   ]
  },
  {
   "cell_type": "code",
   "execution_count": 51,
   "metadata": {},
   "outputs": [
    {
     "data": {
      "text/plain": [
       "<bound method ARCHModelResult.summary of                        Zero Mean - GARCH Model Results                        \n",
       "==============================================================================\n",
       "Dep. Variable:               TUSD_ret   R-squared:                       0.000\n",
       "Mean Model:                 Zero Mean   Adj. R-squared:                  0.003\n",
       "Vol Model:                      GARCH   Log-Likelihood:                994.715\n",
       "Distribution:                  Normal   AIC:                          -1971.43\n",
       "Method:            Maximum Likelihood   BIC:                          -1938.01\n",
       "                                        No. Observations:                  303\n",
       "Date:                Wed, Jul 24 2019   Df Residuals:                      294\n",
       "Time:                        17:58:47   Df Model:                            9\n",
       "                              Volatility Model                              \n",
       "============================================================================\n",
       "                 coef    std err          t      P>|t|      95.0% Conf. Int.\n",
       "----------------------------------------------------------------------------\n",
       "omega      4.4852e-06  1.633e-09   2747.310      0.000 [4.482e-06,4.488e-06]\n",
       "alpha[1]       0.3107      0.164      1.898  5.766e-02  [-1.010e-02,  0.631]\n",
       "alpha[2]       0.0425      0.201      0.211      0.833     [ -0.351,  0.436]\n",
       "alpha[3]       0.0403      0.114      0.352      0.725     [ -0.184,  0.265]\n",
       "alpha[4]       0.0425      0.251      0.169      0.866     [ -0.450,  0.535]\n",
       "beta[1]        0.1424      0.525      0.271      0.786     [ -0.886,  1.170]\n",
       "beta[2]        0.1424      0.290      0.491      0.623     [ -0.426,  0.710]\n",
       "beta[3]        0.1425      0.463      0.308      0.758     [ -0.765,  1.050]\n",
       "beta[4]        0.1425      0.532      0.268      0.789     [ -0.900,  1.185]\n",
       "============================================================================\n",
       "\n",
       "Covariance estimator: robust\n",
       "\n",
       "WARNING: The optimizer did not indicate successful convergence. The message was\n",
       "Positive directional derivative for linesearch. See convergence_flag.\n",
       "ARCHModelResult, id: 0x21c43bae780>"
      ]
     },
     "execution_count": 51,
     "metadata": {},
     "output_type": "execute_result"
    }
   ],
   "source": [
    "model4_fit.summary"
   ]
  }
 ],
 "metadata": {
  "kernelspec": {
   "display_name": "Python 3",
   "language": "python",
   "name": "python3"
  },
  "language_info": {
   "codemirror_mode": {
    "name": "ipython",
    "version": 3
   },
   "file_extension": ".py",
   "mimetype": "text/x-python",
   "name": "python",
   "nbconvert_exporter": "python",
   "pygments_lexer": "ipython3",
   "version": "3.7.3"
  }
 },
 "nbformat": 4,
 "nbformat_minor": 2
}
