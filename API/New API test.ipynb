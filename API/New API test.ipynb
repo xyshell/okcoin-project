{
 "cells": [
  {
   "cell_type": "code",
   "execution_count": 1,
   "metadata": {
    "collapsed": true
   },
   "outputs": [],
   "source": [
    "from CryptoCompareAPI import CryptoCompareAPI\n",
    "from utils import COIN_LIST, myconcat\n",
    "import pandas as pd\n",
    "from datetime import datetime"
   ]
  },
  {
   "cell_type": "code",
   "execution_count": 2,
   "metadata": {
    "collapsed": true
   },
   "outputs": [],
   "source": [
    "api = CryptoCompareAPI()\n",
    "\n",
    "param_list = []\n",
    "for coin in COIN_LIST:\n",
    "    param_list.append(\n",
    "        {'fsym':coin, 'tsym':'USD'}\n",
    "    )\n",
    "\n",
    "df_list = []\n",
    "for param in param_list:\n",
    "    df = api.getCandle('2019/1/8', '2019-07-08', 'h', param=param)\n",
    "    df_list.append(df)\n",
    "\n",
    "df = myconcat(df_list, ['time', 'close'])\n",
    "df.columns = ['time'] + COIN_LIST\n",
    "df.time = pd.to_datetime(df.time, unit='s')"
   ]
  },
  {
   "cell_type": "code",
   "execution_count": 3,
   "metadata": {},
   "outputs": [
    {
     "data": {
      "text/html": [
       "<div>\n",
       "<style scoped>\n",
       "    .dataframe tbody tr th:only-of-type {\n",
       "        vertical-align: middle;\n",
       "    }\n",
       "\n",
       "    .dataframe tbody tr th {\n",
       "        vertical-align: top;\n",
       "    }\n",
       "\n",
       "    .dataframe thead th {\n",
       "        text-align: right;\n",
       "    }\n",
       "</style>\n",
       "<table border=\"1\" class=\"dataframe\">\n",
       "  <thead>\n",
       "    <tr style=\"text-align: right;\">\n",
       "      <th></th>\n",
       "      <th>time</th>\n",
       "      <th>USDT</th>\n",
       "      <th>DAI</th>\n",
       "      <th>TUSD</th>\n",
       "      <th>GUSD</th>\n",
       "      <th>USDC</th>\n",
       "      <th>PAX</th>\n",
       "      <th>USDS</th>\n",
       "    </tr>\n",
       "  </thead>\n",
       "  <tbody>\n",
       "    <tr>\n",
       "      <th>0</th>\n",
       "      <td>2019-07-08 00:00:00</td>\n",
       "      <td>1.004</td>\n",
       "      <td>0.9911</td>\n",
       "      <td>0.994</td>\n",
       "      <td>0.9846</td>\n",
       "      <td>0.995</td>\n",
       "      <td>0.995</td>\n",
       "      <td>0.9934</td>\n",
       "    </tr>\n",
       "    <tr>\n",
       "      <th>1</th>\n",
       "      <td>2019-07-07 23:00:00</td>\n",
       "      <td>1.003</td>\n",
       "      <td>0.9911</td>\n",
       "      <td>0.994</td>\n",
       "      <td>0.9960</td>\n",
       "      <td>0.995</td>\n",
       "      <td>0.995</td>\n",
       "      <td>1.0030</td>\n",
       "    </tr>\n",
       "    <tr>\n",
       "      <th>2</th>\n",
       "      <td>2019-07-07 22:00:00</td>\n",
       "      <td>1.003</td>\n",
       "      <td>0.9911</td>\n",
       "      <td>0.993</td>\n",
       "      <td>0.9894</td>\n",
       "      <td>0.994</td>\n",
       "      <td>0.995</td>\n",
       "      <td>0.9987</td>\n",
       "    </tr>\n",
       "    <tr>\n",
       "      <th>3</th>\n",
       "      <td>2019-07-07 21:00:00</td>\n",
       "      <td>1.003</td>\n",
       "      <td>0.9901</td>\n",
       "      <td>0.994</td>\n",
       "      <td>0.9964</td>\n",
       "      <td>0.995</td>\n",
       "      <td>0.995</td>\n",
       "      <td>0.9971</td>\n",
       "    </tr>\n",
       "    <tr>\n",
       "      <th>4</th>\n",
       "      <td>2019-07-07 20:00:00</td>\n",
       "      <td>1.005</td>\n",
       "      <td>0.9911</td>\n",
       "      <td>0.994</td>\n",
       "      <td>0.9969</td>\n",
       "      <td>0.995</td>\n",
       "      <td>0.993</td>\n",
       "      <td>0.9945</td>\n",
       "    </tr>\n",
       "  </tbody>\n",
       "</table>\n",
       "</div>"
      ],
      "text/plain": [
       "                 time   USDT     DAI   TUSD    GUSD   USDC    PAX    USDS\n",
       "0 2019-07-08 00:00:00  1.004  0.9911  0.994  0.9846  0.995  0.995  0.9934\n",
       "1 2019-07-07 23:00:00  1.003  0.9911  0.994  0.9960  0.995  0.995  1.0030\n",
       "2 2019-07-07 22:00:00  1.003  0.9911  0.993  0.9894  0.994  0.995  0.9987\n",
       "3 2019-07-07 21:00:00  1.003  0.9901  0.994  0.9964  0.995  0.995  0.9971\n",
       "4 2019-07-07 20:00:00  1.005  0.9911  0.994  0.9969  0.995  0.993  0.9945"
      ]
     },
     "execution_count": 3,
     "metadata": {},
     "output_type": "execute_result"
    }
   ],
   "source": [
    "df.head()"
   ]
  },
  {
   "cell_type": "code",
   "execution_count": 4,
   "metadata": {},
   "outputs": [
    {
     "data": {
      "text/plain": [
       "(4345, 8)"
      ]
     },
     "execution_count": 4,
     "metadata": {},
     "output_type": "execute_result"
    }
   ],
   "source": [
    "df.shape"
   ]
  }
 ],
 "metadata": {
  "kernelspec": {
   "display_name": "Python 3",
   "language": "python",
   "name": "python3"
  },
  "language_info": {
   "codemirror_mode": {
    "name": "ipython",
    "version": 3
   },
   "file_extension": ".py",
   "mimetype": "text/x-python",
   "name": "python",
   "nbconvert_exporter": "python",
   "pygments_lexer": "ipython3",
   "version": "3.6.3"
  }
 },
 "nbformat": 4,
 "nbformat_minor": 2
}
